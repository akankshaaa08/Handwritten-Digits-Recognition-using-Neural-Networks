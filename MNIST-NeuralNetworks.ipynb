{
  "nbformat": 4,
  "nbformat_minor": 0,
  "metadata": {
    "colab": {
      "name": "Copy of 191000005_Akanksha_Singh_Pandaw.ipynb",
      "provenance": []
    },
    "kernelspec": {
      "name": "python3",
      "display_name": "Python 3"
    },
    "language_info": {
      "name": "python"
    }
  },
  "cells": [
    {
      "cell_type": "markdown",
      "metadata": {
        "id": "5libOLcxP8oE"
      },
      "source": [
        "#**TOPIC: HANDWRITTEN DIGITS RECOGNITION USING NEURAL NETWORK**"
      ]
    },
    {
      "cell_type": "markdown",
      "metadata": {
        "id": "SACQ-lXI5rHu"
      },
      "source": [
        "\n",
        "\n",
        "```\n",
        "This notebook has been divided into the following sections:\n",
        "\n",
        "1. Importing libraries\n",
        "\n",
        "2. Loading the dataset\n",
        "\n",
        "3. Data Visualization\n",
        "    3.1 Images\n",
        "    3.2 Distribution of Train data\n",
        "    3.3 Distribution of Test data\n",
        "\n",
        "4. Data Pre-processing\n",
        "    4.1 Conversion to 32 bit float\n",
        "    4.2 Normalization\n",
        "    4.3 One-hot Encoding\n",
        "\n",
        "5. Defining Model  \n",
        "    5.1 Flatten Layer\n",
        "    5.2 Activation Function\n",
        "    5.3 Activation Layer\n",
        "    5.4 Fully Connected Layer\n",
        "    5.5 Softmax Layer\n",
        "\n",
        "6. Traning at LR = 0.1, 0.5, .01, 0.001\n",
        "\n",
        "7. Prediction\n",
        "\n",
        "8. Evaluation\n",
        "```\n",
        "\n"
      ]
    },
    {
      "cell_type": "markdown",
      "metadata": {
        "id": "ogi-bXkIeZ1d"
      },
      "source": [
        "#**1. Importing Libraries**"
      ]
    },
    {
      "cell_type": "code",
      "metadata": {
        "id": "40Cxo8eb0WLw"
      },
      "source": [
        "import numpy as np                        #Python library used for working with arrays\n",
        "import matplotlib.pyplot as plt           #visualizaton library for plotting graphs\n",
        "from keras.utils import np_utils          #converts categorical data to an array of labeled data\n",
        "from keras.datasets import mnist          #downloads MNIST library\n",
        "import pandas as pd                       #for data manipulation and analysis"
      ],
      "execution_count": null,
      "outputs": []
    },
    {
      "cell_type": "markdown",
      "metadata": {
        "id": "V8WJyY5mQZbG"
      },
      "source": [
        "#**2. Loading the dataset**\n",
        "##**Dataset Used: MNIST database (Modified National Institute of Standards and Technology database)**\n",
        "\n",
        "* X_train / y_train_1 => will be used for training the model\n",
        "* X_test => will be used for predicting the output\n",
        "* y_test_1 => will be used for evaluating the output\n",
        "* X_train and X_test contains images\n",
        "* y_train_1 and y_test_1 contains labels "
      ]
    },
    {
      "cell_type": "code",
      "metadata": {
        "colab": {
          "base_uri": "https://localhost:8080/"
        },
        "id": "sxuQDadN1GV1",
        "outputId": "351a0509-5c3d-44f5-8fa1-cfb92a898381"
      },
      "source": [
        "(x_train_1, y_train_1), (x_test_1, y_test_1) = mnist.load_data()\n",
        "\n",
        "print(\"\\nShape of x_train_1: \", x_train_1.shape)\n",
        "print(\"\\nShape of y_train_1: \", y_train_1.shape)\n",
        "print(\"\\nShape of x_test_1: \", x_test_1.shape)\n",
        "print(\"\\nShape of y_test_1: \", y_test_1.shape)"
      ],
      "execution_count": null,
      "outputs": [
        {
          "output_type": "stream",
          "name": "stdout",
          "text": [
            "\n",
            "Shape of x_train_1:  (60000, 28, 28)\n",
            "\n",
            "Shape of y_train_1:  (60000,)\n",
            "\n",
            "Shape of x_test_1:  (10000, 28, 28)\n",
            "\n",
            "Shape of y_test_1:  (10000,)\n"
          ]
        }
      ]
    },
    {
      "cell_type": "markdown",
      "metadata": {
        "id": "wg8c3kOp4SW0"
      },
      "source": [
        "#**3. Data Visualization**"
      ]
    },
    {
      "cell_type": "markdown",
      "metadata": {
        "id": "_ogF7nFN4en_"
      },
      "source": [
        "##**3.1 Images**"
      ]
    },
    {
      "cell_type": "code",
      "metadata": {
        "colab": {
          "base_uri": "https://localhost:8080/",
          "height": 129
        },
        "id": "bc__uUAQ3B1X",
        "outputId": "18b8ba68-c928-4b7a-ba32-8f97fcf1a719"
      },
      "source": [
        "import matplotlib.pyplot as plt\n",
        "n = 10  # how many digits we will display\n",
        "plt.figure(figsize=(20, 4))\n",
        "for i in range(n):\n",
        "    # display original\n",
        "    ax = plt.subplot(2, n, i + 1)\n",
        "    plt.imshow(x_test_1[i].reshape(28, 28))\n",
        "    plt.gray()\n",
        "    ax.get_xaxis().set_visible(False)\n",
        "    ax.get_yaxis().set_visible(False)\n",
        "plt.show()\n",
        "plt.close()"
      ],
      "execution_count": null,
      "outputs": [
        {
          "output_type": "display_data",
          "data": {
            "image/png": "[encoded data removed]",
            "text/plain": [
              "<Figure size 1440x288 with 10 Axes>"
            ]
          },
          "metadata": {
            "needs_background": "light"
          }
        }
      ]
    },
    {
      "cell_type": "markdown",
      "metadata": {
        "id": "oAum5ivycf5E"
      },
      "source": [
        "##**3.2 Distribution of Training data**"
      ]
    },
    {
      "cell_type": "code",
      "metadata": {
        "colab": {
          "base_uri": "https://localhost:8080/"
        },
        "id": "MBxz3SXUX7xS",
        "outputId": "22a630c0-59a5-43ee-c904-c24fa5b14960"
      },
      "source": [
        "print(\"Number of training sample per digit are:\\n\",pd.Series(y_train_1).value_counts())\n",
        "\n",
        "print(\"\\n\\nPercentage of each Train class is:\\n\")\n",
        "digit_rate_train = pd.Series(y_train_1).value_counts() / 10000\n",
        "digit_rate_train"
      ],
      "execution_count": null,
      "outputs": [
        {
          "output_type": "stream",
          "name": "stdout",
          "text": [
            "Number of training sample per digit are:\n",
            " 1    6742\n",
            "7    6265\n",
            "3    6131\n",
            "2    5958\n",
            "9    5949\n",
            "0    5923\n",
            "6    5918\n",
            "8    5851\n",
            "4    5842\n",
            "5    5421\n",
            "dtype: int64\n",
            "\n",
            "\n",
            "Percentage of each Train class is:\n",
            "\n"
          ]
        },
        {
          "output_type": "execute_result",
          "data": {
            "text/plain": [
              "1    0.6742\n",
              "7    0.6265\n",
              "3    0.6131\n",
              "2    0.5958\n",
              "9    0.5949\n",
              "0    0.5923\n",
              "6    0.5918\n",
              "8    0.5851\n",
              "4    0.5842\n",
              "5    0.5421\n",
              "dtype: float64"
            ]
          },
          "metadata": {},
          "execution_count": 21
        }
      ]
    },
    {
      "cell_type": "code",
      "metadata": {
        "colab": {
          "base_uri": "https://localhost:8080/",
          "height": 476
        },
        "id": "33PYQD5qU4XM",
        "outputId": "85a0111e-8b27-4cff-dae5-ab64085303cb"
      },
      "source": [
        "pd.Series(y_train_1).value_counts().plot(kind='bar', figsize=(15, 7), rot=0, color=['black', 'red', 'green', 'blue', 'purple', 'lightgreen', 'cyan', 'magenta', 'gold', 'brown'])\n",
        "plt.xlabel(\"Digits\", labelpad=14)\n",
        "plt.ylabel(\"Number of Samples\", labelpad=14)\n",
        "plt.title(\"Number of training samples per digit\", y=1.02);"
      ],
      "execution_count": null,
      "outputs": [
        {
          "output_type": "display_data",
          "data": {
            "image/png": "[encoded data removed]",
            "text/plain": [
              "<Figure size 1080x504 with 1 Axes>"
            ]
          },
          "metadata": {
            "needs_background": "light"
          }
        }
      ]
    },
    {
      "cell_type": "markdown",
      "metadata": {
        "id": "XVPmYEWZdG4C"
      },
      "source": [
        "##**3.3 Distribution of Test data**"
      ]
    },
    {
      "cell_type": "code",
      "metadata": {
        "colab": {
          "base_uri": "https://localhost:8080/"
        },
        "id": "9_HHJkswXcZl",
        "outputId": "36cc4715-71e0-447e-e81b-94b22a7d682e"
      },
      "source": [
        "print(\"Number of test sample per digit are:\\n\",pd.Series(y_test_1).value_counts())\n",
        "\n",
        "print(\"\\n\\nPercentage of each Test class is:\\n\")\n",
        "digit_rate_test = pd.Series(y_test_1).value_counts() / 10000\n",
        "digit_rate_test"
      ],
      "execution_count": null,
      "outputs": [
        {
          "output_type": "stream",
          "name": "stdout",
          "text": [
            "Number of test sample per digit are:\n",
            " 1    1135\n",
            "2    1032\n",
            "7    1028\n",
            "3    1010\n",
            "9    1009\n",
            "4     982\n",
            "0     980\n",
            "8     974\n",
            "6     958\n",
            "5     892\n",
            "dtype: int64\n",
            "\n",
            "\n",
            "Percentage of each Test class is:\n",
            "\n"
          ]
        },
        {
          "output_type": "execute_result",
          "data": {
            "text/plain": [
              "1    0.1135\n",
              "2    0.1032\n",
              "7    0.1028\n",
              "3    0.1010\n",
              "9    0.1009\n",
              "4    0.0982\n",
              "0    0.0980\n",
              "8    0.0974\n",
              "6    0.0958\n",
              "5    0.0892\n",
              "dtype: float64"
            ]
          },
          "metadata": {},
          "execution_count": 23
        }
      ]
    },
    {
      "cell_type": "code",
      "metadata": {
        "colab": {
          "base_uri": "https://localhost:8080/",
          "height": 476
        },
        "id": "utFRjGhZYWIt",
        "outputId": "f26db544-6f59-4cce-943c-b8af09626066"
      },
      "source": [
        "pd.Series(y_test_1).value_counts().plot(kind='bar', figsize=(15, 7), rot=0, color=['black', 'red', 'green', 'blue', 'purple', 'lightgreen', 'cyan', 'magenta', 'gold', 'brown'])\n",
        "plt.xlabel(\"Digits\", labelpad=14)\n",
        "plt.ylabel(\"Number of Samples\", labelpad=14)\n",
        "plt.title(\"Number of test samples per digit\", y=1.02);"
      ],
      "execution_count": null,
      "outputs": [
        {
          "output_type": "display_data",
          "data": {
            "image/png": "[encoded data removed]",
            "text/plain": [
              "<Figure size 1080x504 with 1 Axes>"
            ]
          },
          "metadata": {
            "needs_background": "light"
          }
        }
      ]
    },
    {
      "cell_type": "markdown",
      "metadata": {
        "id": "lTgY8Bv65OKD"
      },
      "source": [
        "#**4. Data Pre-processing** (Normalized)"
      ]
    },
    {
      "cell_type": "code",
      "metadata": {
        "id": "Efj5VD1E2HNK"
      },
      "source": [
        "#Converting the image arrays into 32 bit float precision\n",
        "#Significance: Training time reduces for smaller dataset  \n",
        "\n",
        "x_train_1 = x_train_1.astype('float32')\n",
        "x_test_1 = x_test_1.astype('float32')\n",
        "\n",
        "\n",
        "#NORMALIZATION\n",
        "#Significance:\n",
        "    # Normalizing the data generally speeds up learning and leads to faster convergence.\n",
        "    # The CNN model converges faster on data whose mean is close to zero than on data with a larger range like [0 to 255].\n",
        "    # As the pixel values range from 0 to 255, dividing all the values by 255 will convert it to range from 0 to 1.\n",
        "\n",
        "x_train_1 = x_train_1/255\n",
        "x_test_1 = x_test_1/255\n",
        "\n",
        "\n",
        "#ONE HOT ENCODING\n",
        "#Significance: Encoding categorical data to numbers helps in using them for training and evaluating the model.\n",
        "\n",
        "y_train_1 = np_utils.to_categorical(y_train_1)\n",
        "y_test_1 = np_utils.to_categorical(y_test_1)\n",
        "\n",
        "#Creating a mini batch for a faster training\n",
        "x_train_1 = x_train_1[0:1000]\n",
        "y_train_1 = y_train_1[0:1000]"
      ],
      "execution_count": null,
      "outputs": []
    },
    {
      "cell_type": "markdown",
      "metadata": {
        "id": "0vFOLKY0EsIx"
      },
      "source": [
        "#**5. Defining the Network**"
      ]
    },
    {
      "cell_type": "markdown",
      "metadata": {
        "id": "3ZFsJa4ERJZq"
      },
      "source": [
        "##**5.1 Flatten Layer**\n",
        "\n",
        "* Significance:\n",
        "  \n",
        "  * Used for falttening the input.\n",
        "  * It converts the data into a 1-dimensional array for inputting it to the next layer."
      ]
    },
    {
      "cell_type": "code",
      "metadata": {
        "id": "hl8LxP1lAEiN"
      },
      "source": [
        "class FlattenLayer:\n",
        "    def __init__(self, input_shape):\n",
        "        self.input_shape = input_shape\n",
        "\n",
        "    def forward(self, input):\n",
        "        return np.reshape(input, (1, -1))\n",
        "    \n",
        "    def backward(self, output_error, learning_rate):\n",
        "        return np.reshape(output_error, self.input_shape)"
      ],
      "execution_count": null,
      "outputs": []
    },
    {
      "cell_type": "markdown",
      "metadata": {
        "id": "Y3uHkHWdWvAI"
      },
      "source": [
        "##**5.2 Activation Functions**\n",
        "\n",
        "* Significance:\n",
        "\n",
        "  * It introduces non-linearity in the network to learn more complex features."
      ]
    },
    {
      "cell_type": "code",
      "metadata": {
        "id": "LuPbn70Wt8Q7"
      },
      "source": [
        "def sigmoid(x):\n",
        "    return 1 / (1 + np.exp(-x))\n",
        "\n",
        "def sigmoid_prime(x):\n",
        "    return np.exp(-x) / (1 + np.exp(-x))**2\n",
        "\n",
        "def tanh(x):\n",
        "    return np.tanh(x)\n",
        "\n",
        "def tanh_prime(x):\n",
        "    return 1 - np.tanh(x)**2\n",
        "\n",
        "def relu(x):\n",
        "    return np.maximum(x, 0)\n",
        "\n",
        "def relu_prime(x):\n",
        "    return np.array(x >= 0).astype('int')"
      ],
      "execution_count": null,
      "outputs": []
    },
    {
      "cell_type": "markdown",
      "metadata": {
        "id": "J6KkbsuedzBj"
      },
      "source": [
        "##**5.3 Activation Layer**\n",
        "\n",
        "* Significance:\n",
        "  \n",
        "  *  It decides whether the neuron should be activated or not.\n",
        "  * An activated neuron contributes in determining the output. "
      ]
    },
    {
      "cell_type": "code",
      "metadata": {
        "id": "TrZo1EFJE3s_"
      },
      "source": [
        "class ActivationLayer:\n",
        "    def __init__(self, activation, activation_prime):\n",
        "        self.activation = activation\n",
        "        self.activation_prime = activation_prime\n",
        "    \n",
        "    def forward(self, input):\n",
        "        self.input = input\n",
        "        return self.activation(input)\n",
        "    \n",
        "    def backward(self, output_error, learning_rate):\n",
        "        return output_error * self.activation_prime(self.input)"
      ],
      "execution_count": null,
      "outputs": []
    },
    {
      "cell_type": "markdown",
      "metadata": {
        "id": "-TEVD2iredFK"
      },
      "source": [
        "##**5.4 Fully-connected Layer**\n",
        "\n",
        "* Significance:\n",
        "\n",
        "  * Fully connected neural networks (FCNNs) are a type of artificial neural network where the architecture is such that all the nodes, or neurons, in one layer are connected to the neurons in the next layer.\n",
        "\n",
        "  * The major advantage of fully connected networks is that they are “structure agnostic” i.e. there are no special assumptions needed to be made about the input."
      ]
    },
    {
      "cell_type": "code",
      "metadata": {
        "id": "mOWpPVbr2Sjl"
      },
      "source": [
        "class FCLayer:\n",
        "    def __init__(self, input_size, output_size):\n",
        "        self.input_size = input_size\n",
        "        self.output_size = output_size\n",
        "        self.weights = np.random.randn(input_size, output_size) / np.sqrt(input_size + output_size)\n",
        "        self.bias = np.random.randn(1, output_size) / np.sqrt(input_size + output_size)\n",
        "\n",
        "    def forward(self, input):\n",
        "        self.input = input\n",
        "        return np.dot(input, self.weights) + self.bias\n",
        "\n",
        "    def backward(self, output_error, learning_rate):\n",
        "        input_error = np.dot(output_error, self.weights.T)\n",
        "        weights_error = np.dot(self.input.T, output_error)\n",
        "        \n",
        "        self.weights -= learning_rate * weights_error\n",
        "        self.bias -= learning_rate * output_error\n",
        "        return input_error"
      ],
      "execution_count": null,
      "outputs": []
    },
    {
      "cell_type": "markdown",
      "metadata": {
        "id": "Uwz5YH2heqhF"
      },
      "source": [
        "##**5.5 Softmax Layer**\n",
        "\n",
        "* Significance: \n",
        "\n",
        "* The softmax function is a function that turns a vector of K real values into a vector of K real values that sum to 1\n",
        "\n",
        "* It assigns decimal probabilities to each class in a multi-class classification problem."
      ]
    },
    {
      "cell_type": "code",
      "metadata": {
        "id": "RQeuIfkK3vyl"
      },
      "source": [
        "class SoftmaxLayer:\n",
        "    def __init__(self, input_size):\n",
        "        self.input_size = input_size\n",
        "    \n",
        "    def forward(self, input):\n",
        "        self.input = input\n",
        "        tmp = np.exp(input)\n",
        "        self.output = tmp / np.sum(tmp)\n",
        "        return self.output\n",
        "    \n",
        "    def backward(self, output_error, learning_rate):\n",
        "        input_error = np.zeros(output_error.shape)\n",
        "        out = np.tile(self.output.T, self.input_size)\n",
        "        return self.output * np.dot(output_error, np.identity(self.input_size) - out)"
      ],
      "execution_count": null,
      "outputs": []
    },
    {
      "cell_type": "code",
      "metadata": {
        "id": "ZxV-T6jbTFPl"
      },
      "source": [
        "#Passing parameter value\n",
        "\n",
        "network = [\n",
        "    FlattenLayer(input_shape=(28, 28)),\n",
        "    FCLayer(28 * 28, 128),\n",
        "    ActivationLayer(relu, relu_prime),\n",
        "    FCLayer(128, 10),\n",
        "    SoftmaxLayer(10)\n",
        "]"
      ],
      "execution_count": null,
      "outputs": []
    },
    {
      "cell_type": "markdown",
      "metadata": {
        "id": "Xvy0aq_ThLWX"
      },
      "source": [
        "###**Significance of Learning Rates:**\n",
        "\n",
        "  * It is a hyper-parameter in an optimization algorithm that determines the step size at each iteration while moving toward a minimum of a loss function"
      ]
    },
    {
      "cell_type": "markdown",
      "metadata": {
        "id": "zaE8hP88TS0a"
      },
      "source": [
        "##**5.6.1 Training at LR = 0.1**"
      ]
    },
    {
      "cell_type": "code",
      "metadata": {
        "id": "rXY7jkUzuqEk"
      },
      "source": [
        "def mse(y_true, y_pred):\n",
        "    return np.mean(np.power(y_true - y_pred, 2))\n",
        "\n",
        "def mse_prime(y_true, y_pred):\n",
        "    return 2 * (y_pred - y_true) / y_pred.size\n",
        "\n",
        "def sse(y_true, y_pred):\n",
        "    return 0.5 * np.sum(np.power(y_true - y_pred, 2))\n",
        "\n",
        "def sse_prime(y_true, y_pred):\n",
        "    return y_pred - y_true"
      ],
      "execution_count": null,
      "outputs": []
    },
    {
      "cell_type": "code",
      "metadata": {
        "id": "oHQpwN8LpKiN",
        "colab": {
          "base_uri": "https://localhost:8080/"
        },
        "outputId": "5bd86c93-f372-4253-b11f-8e98f19797bb"
      },
      "source": [
        "epochs = 50\n",
        "learning_rate = 0.1\n",
        "error_list=[]\n",
        "\n",
        "# training\n",
        "for epoch in range(epochs):\n",
        "    error = 0\n",
        "    for x, y_true in zip(x_train_1, y_train_1):\n",
        "        # forward\n",
        "        output = x\n",
        "        for layer in network:\n",
        "            output = layer.forward(output)\n",
        "        \n",
        "        # error (display purpose only)\n",
        "        error += mse(y_true, output)\n",
        "\n",
        "        # backward\n",
        "        output_error = mse_prime(y_true, output)\n",
        "        for layer in reversed(network):\n",
        "            output_error = layer.backward(output_error, learning_rate)\n",
        "    \n",
        "    error /= len(x_train_1)\n",
        "    error_list.append(error)\n",
        "    print('%d/%d, error=%f' % (epoch + 1, epochs, error))"
      ],
      "execution_count": null,
      "outputs": [
        {
          "output_type": "stream",
          "name": "stdout",
          "text": [
            "1/50, error=0.070175\n",
            "2/50, error=0.032675\n",
            "3/50, error=0.021838\n",
            "4/50, error=0.017142\n",
            "5/50, error=0.014007\n",
            "6/50, error=0.011747\n",
            "7/50, error=0.010029\n",
            "8/50, error=0.008682\n",
            "9/50, error=0.007560\n",
            "10/50, error=0.006632\n",
            "11/50, error=0.005837\n",
            "12/50, error=0.005119\n",
            "13/50, error=0.004599\n",
            "14/50, error=0.004179\n",
            "15/50, error=0.003839\n",
            "16/50, error=0.003556\n",
            "17/50, error=0.003315\n",
            "18/50, error=0.003108\n",
            "19/50, error=0.002929\n",
            "20/50, error=0.002770\n",
            "21/50, error=0.002629\n",
            "22/50, error=0.002499\n",
            "23/50, error=0.002375\n",
            "24/50, error=0.002250\n",
            "25/50, error=0.002138\n",
            "26/50, error=0.002044\n",
            "27/50, error=0.001943\n",
            "28/50, error=0.001858\n",
            "29/50, error=0.001788\n",
            "30/50, error=0.001733\n",
            "31/50, error=0.001689\n",
            "32/50, error=0.001652\n",
            "33/50, error=0.001610\n",
            "34/50, error=0.001542\n",
            "35/50, error=0.001456\n",
            "36/50, error=0.001369\n",
            "37/50, error=0.001331\n",
            "38/50, error=0.001311\n",
            "39/50, error=0.001293\n",
            "40/50, error=0.001279\n",
            "41/50, error=0.001266\n",
            "42/50, error=0.001255\n",
            "43/50, error=0.001244\n",
            "44/50, error=0.001235\n",
            "45/50, error=0.001227\n",
            "46/50, error=0.001219\n",
            "47/50, error=0.001212\n",
            "48/50, error=0.001206\n",
            "49/50, error=0.001200\n",
            "50/50, error=0.001194\n"
          ]
        }
      ]
    },
    {
      "cell_type": "code",
      "metadata": {
        "colab": {
          "base_uri": "https://localhost:8080/",
          "height": 524
        },
        "id": "7u1iSfaiO1wA",
        "outputId": "d42283e1-619e-4726-cf70-653b6622abdb"
      },
      "source": [
        "from matplotlib.pyplot import figure\n",
        "\n",
        "figure(figsize=(9, 7), dpi=80)\n",
        "plt.plot(np.arange(len(error_list)), error_list)\n",
        "plt.xlabel(\"Epochs\", labelpad=14)\n",
        "plt.ylabel(\"Cost Function\", labelpad=14)\n",
        "plt.title(\"Cost Function at LR = 0.1\", y=1.02);"
      ],
      "execution_count": null,
      "outputs": [
        {
          "output_type": "display_data",
          "data": {
            "image/png": "[encoded data removed]",
            "text/plain": [
              "<Figure size 720x560 with 1 Axes>"
            ]
          },
          "metadata": {
            "needs_background": "light"
          }
        }
      ]
    },
    {
      "cell_type": "markdown",
      "metadata": {
        "id": "vvPBKMsRSZZB"
      },
      "source": [
        "#**5.6.2 Training at LR = 0.5**"
      ]
    },
    {
      "cell_type": "code",
      "metadata": {
        "colab": {
          "base_uri": "https://localhost:8080/"
        },
        "id": "2m0bpVxLSbr1",
        "outputId": "f1d287a3-5729-46f7-a73b-496ffbd1652f"
      },
      "source": [
        "network = [\n",
        "    FlattenLayer(input_shape=(28, 28)),\n",
        "    FCLayer(28 * 28, 128),\n",
        "    ActivationLayer(relu, relu_prime),\n",
        "    FCLayer(128, 10),\n",
        "    SoftmaxLayer(10)\n",
        "]\n",
        "\n",
        "epochs = 50\n",
        "learning_rate = 0.5\n",
        "error_list=[]\n",
        "\n",
        "# training\n",
        "for epoch in range(epochs):\n",
        "    error = 0\n",
        "    for x, y_true in zip(x_train_1, y_train_1):\n",
        "        # forward\n",
        "        output = x\n",
        "        for layer in network:\n",
        "            output = layer.forward(output)\n",
        "        \n",
        "        # error (display purpose only)\n",
        "        error += mse(y_true, output)\n",
        "\n",
        "        # backward\n",
        "        output_error = mse_prime(y_true, output)\n",
        "        for layer in reversed(network):\n",
        "            output_error = layer.backward(output_error, learning_rate)\n",
        "    \n",
        "    error /= len(x_train_1)\n",
        "    error_list.append(error)\n",
        "    print('%d/%d, error=%f' % (epoch + 1, epochs, error))"
      ],
      "execution_count": null,
      "outputs": [
        {
          "output_type": "stream",
          "name": "stdout",
          "text": [
            "1/50, error=0.043947\n",
            "2/50, error=0.021131\n",
            "3/50, error=0.014215\n",
            "4/50, error=0.009772\n",
            "5/50, error=0.006745\n",
            "6/50, error=0.005633\n",
            "7/50, error=0.004030\n",
            "8/50, error=0.003375\n",
            "9/50, error=0.002791\n",
            "10/50, error=0.002451\n",
            "11/50, error=0.002308\n",
            "12/50, error=0.002187\n",
            "13/50, error=0.001993\n",
            "14/50, error=0.001994\n",
            "15/50, error=0.001752\n",
            "16/50, error=0.001865\n",
            "17/50, error=0.001525\n",
            "18/50, error=0.001493\n",
            "19/50, error=0.001490\n",
            "20/50, error=0.001475\n",
            "21/50, error=0.001189\n",
            "22/50, error=0.001115\n",
            "23/50, error=0.001152\n",
            "24/50, error=0.001101\n",
            "25/50, error=0.001146\n",
            "26/50, error=0.001154\n",
            "27/50, error=0.001157\n",
            "28/50, error=0.001125\n",
            "29/50, error=0.001098\n",
            "30/50, error=0.001143\n",
            "31/50, error=0.001135\n",
            "32/50, error=0.001130\n",
            "33/50, error=0.001129\n",
            "34/50, error=0.001119\n",
            "35/50, error=0.001120\n",
            "36/50, error=0.001101\n",
            "37/50, error=0.001095\n",
            "38/50, error=0.001014\n",
            "39/50, error=0.001021\n",
            "40/50, error=0.001037\n",
            "41/50, error=0.001002\n",
            "42/50, error=0.000866\n",
            "43/50, error=0.000787\n",
            "44/50, error=0.000719\n",
            "45/50, error=0.000696\n",
            "46/50, error=0.000690\n",
            "47/50, error=0.000697\n",
            "48/50, error=0.000657\n",
            "49/50, error=0.000656\n",
            "50/50, error=0.000664\n"
          ]
        }
      ]
    },
    {
      "cell_type": "code",
      "metadata": {
        "colab": {
          "base_uri": "https://localhost:8080/",
          "height": 524
        },
        "id": "dfur7DYtSonH",
        "outputId": "8112f84a-cce2-47dd-9b37-88ea17ffcdb4"
      },
      "source": [
        "from matplotlib.pyplot import figure\n",
        "\n",
        "figure(figsize=(9, 7), dpi=80)\n",
        "plt.plot(np.arange(len(error_list)), error_list)\n",
        "plt.xlabel(\"Epochs\", labelpad=14)\n",
        "plt.ylabel(\"Cost Function\", labelpad=14)\n",
        "plt.title(\"Cost Function at LR = 0.5\", y=1.02);"
      ],
      "execution_count": null,
      "outputs": [
        {
          "output_type": "display_data",
          "data": {
            "image/png": "[encoded data removed]",
            "text/plain": [
              "<Figure size 720x560 with 1 Axes>"
            ]
          },
          "metadata": {
            "needs_background": "light"
          }
        }
      ]
    },
    {
      "cell_type": "markdown",
      "metadata": {
        "id": "uLG3vo2zTg68"
      },
      "source": [
        "##**5.6.3 Training at LR = 0.01**"
      ]
    },
    {
      "cell_type": "code",
      "metadata": {
        "colab": {
          "base_uri": "https://localhost:8080/"
        },
        "id": "M2ZUgR1BSy_M",
        "outputId": "c9268292-5d6b-4d23-dcf5-bf22753a8cda"
      },
      "source": [
        "network = [\n",
        "    FlattenLayer(input_shape=(28, 28)),\n",
        "    FCLayer(28 * 28, 128),\n",
        "    ActivationLayer(relu, relu_prime),\n",
        "    FCLayer(128, 10),\n",
        "    SoftmaxLayer(10)\n",
        "]\n",
        "\n",
        "epochs = 50\n",
        "learning_rate = 0.01\n",
        "error_list=[]\n",
        "\n",
        "# training\n",
        "for epoch in range(epochs):\n",
        "    error = 0\n",
        "    for x, y_true in zip(x_train_1, y_train_1):\n",
        "        # forward\n",
        "        output = x\n",
        "        for layer in network:\n",
        "            output = layer.forward(output)\n",
        "        \n",
        "        # error (display purpose only)\n",
        "        error += mse(y_true, output)\n",
        "\n",
        "        # backward\n",
        "        output_error = mse_prime(y_true, output)\n",
        "        for layer in reversed(network):\n",
        "            output_error = layer.backward(output_error, learning_rate)\n",
        "    \n",
        "    error /= len(x_train_1)\n",
        "    error_list.append(error)\n",
        "    print('%d/%d, error=%f' % (epoch + 1, epochs, error))"
      ],
      "execution_count": null,
      "outputs": [
        {
          "output_type": "stream",
          "name": "stdout",
          "text": [
            "1/50, error=0.089555\n",
            "2/50, error=0.087117\n",
            "3/50, error=0.084158\n",
            "4/50, error=0.080166\n",
            "5/50, error=0.074913\n",
            "6/50, error=0.068807\n",
            "7/50, error=0.062526\n",
            "8/50, error=0.056552\n",
            "9/50, error=0.051194\n",
            "10/50, error=0.046642\n",
            "11/50, error=0.042821\n",
            "12/50, error=0.039540\n",
            "13/50, error=0.036668\n",
            "14/50, error=0.034085\n",
            "15/50, error=0.031767\n",
            "16/50, error=0.029739\n",
            "17/50, error=0.027978\n",
            "18/50, error=0.026443\n",
            "19/50, error=0.025098\n",
            "20/50, error=0.023908\n",
            "21/50, error=0.022845\n",
            "22/50, error=0.021888\n",
            "23/50, error=0.021021\n",
            "24/50, error=0.020230\n",
            "25/50, error=0.019505\n",
            "26/50, error=0.018837\n",
            "27/50, error=0.018219\n",
            "28/50, error=0.017646\n",
            "29/50, error=0.017111\n",
            "30/50, error=0.016612\n",
            "31/50, error=0.016144\n",
            "32/50, error=0.015705\n",
            "33/50, error=0.015292\n",
            "34/50, error=0.014902\n",
            "35/50, error=0.014533\n",
            "36/50, error=0.014184\n",
            "37/50, error=0.013853\n",
            "38/50, error=0.013538\n",
            "39/50, error=0.013236\n",
            "40/50, error=0.012949\n",
            "41/50, error=0.012675\n",
            "42/50, error=0.012412\n",
            "43/50, error=0.012160\n",
            "44/50, error=0.011918\n",
            "45/50, error=0.011685\n",
            "46/50, error=0.011459\n",
            "47/50, error=0.011243\n",
            "48/50, error=0.011034\n",
            "49/50, error=0.010831\n",
            "50/50, error=0.010636\n"
          ]
        }
      ]
    },
    {
      "cell_type": "code",
      "metadata": {
        "colab": {
          "base_uri": "https://localhost:8080/",
          "height": 524
        },
        "id": "3xfaxhUEStvs",
        "outputId": "81b184ea-24e1-4bbd-e8c4-d8a0ec6873f9"
      },
      "source": [
        "from matplotlib.pyplot import figure\n",
        "\n",
        "figure(figsize=(9, 7), dpi=80)\n",
        "plt.plot(np.arange(len(error_list)), error_list)\n",
        "plt.xlabel(\"Epochs\", labelpad=14)\n",
        "plt.ylabel(\"Cost Function\", labelpad=14)\n",
        "plt.title(\"Cost Function at LR=0.01\", y=1.02);"
      ],
      "execution_count": null,
      "outputs": [
        {
          "output_type": "display_data",
          "data": {
            "image/png": "[encoded data removed]",
            "text/plain": [
              "<Figure size 720x560 with 1 Axes>"
            ]
          },
          "metadata": {
            "needs_background": "light"
          }
        }
      ]
    },
    {
      "cell_type": "markdown",
      "metadata": {
        "id": "fbbdDQweTp7S"
      },
      "source": [
        "##**5.6.4 Training at LR = 0.001**"
      ]
    },
    {
      "cell_type": "code",
      "metadata": {
        "colab": {
          "base_uri": "https://localhost:8080/"
        },
        "id": "EjX3xJpzTWp9",
        "outputId": "92a9dd88-3ed8-4c75-dc0e-b6e624f3c85d"
      },
      "source": [
        "network = [\n",
        "    FlattenLayer(input_shape=(28, 28)),\n",
        "    FCLayer(28 * 28, 128),\n",
        "    ActivationLayer(relu, relu_prime),\n",
        "    FCLayer(128, 10),\n",
        "    SoftmaxLayer(10)\n",
        "]\n",
        "\n",
        "epochs = 50\n",
        "learning_rate = 0.001\n",
        "error_list=[]\n",
        "\n",
        "# training\n",
        "for epoch in range(epochs):\n",
        "    error = 0\n",
        "    for x, y_true in zip(x_train_1, y_train_1):\n",
        "        # forward\n",
        "        output = x\n",
        "        for layer in network:\n",
        "            output = layer.forward(output)\n",
        "        \n",
        "        # error (display purpose only)\n",
        "        error += mse(y_true, output)\n",
        "\n",
        "        # backward\n",
        "        output_error = mse_prime(y_true, output)\n",
        "        for layer in reversed(network):\n",
        "            output_error = layer.backward(output_error, learning_rate)\n",
        "    \n",
        "    error /= len(x_train_1)\n",
        "    error_list.append(error)\n",
        "    print('%d/%d, error=%f' % (epoch + 1, epochs, error))"
      ],
      "execution_count": null,
      "outputs": [
        {
          "output_type": "stream",
          "name": "stdout",
          "text": [
            "1/50, error=0.090660\n",
            "2/50, error=0.090407\n",
            "3/50, error=0.090160\n",
            "4/50, error=0.089917\n",
            "5/50, error=0.089677\n",
            "6/50, error=0.089439\n",
            "7/50, error=0.089201\n",
            "8/50, error=0.088963\n",
            "9/50, error=0.088721\n",
            "10/50, error=0.088478\n",
            "11/50, error=0.088232\n",
            "12/50, error=0.087983\n",
            "13/50, error=0.087730\n",
            "14/50, error=0.087472\n",
            "15/50, error=0.087209\n",
            "16/50, error=0.086941\n",
            "17/50, error=0.086666\n",
            "18/50, error=0.086383\n",
            "19/50, error=0.086092\n",
            "20/50, error=0.085793\n",
            "21/50, error=0.085485\n",
            "22/50, error=0.085168\n",
            "23/50, error=0.084840\n",
            "24/50, error=0.084502\n",
            "25/50, error=0.084152\n",
            "26/50, error=0.083790\n",
            "27/50, error=0.083414\n",
            "28/50, error=0.083025\n",
            "29/50, error=0.082623\n",
            "30/50, error=0.082205\n",
            "31/50, error=0.081772\n",
            "32/50, error=0.081323\n",
            "33/50, error=0.080858\n",
            "34/50, error=0.080376\n",
            "35/50, error=0.079877\n",
            "36/50, error=0.079362\n",
            "37/50, error=0.078831\n",
            "38/50, error=0.078283\n",
            "39/50, error=0.077717\n",
            "40/50, error=0.077136\n",
            "41/50, error=0.076541\n",
            "42/50, error=0.075931\n",
            "43/50, error=0.075307\n",
            "44/50, error=0.074672\n",
            "45/50, error=0.074022\n",
            "46/50, error=0.073359\n",
            "47/50, error=0.072681\n",
            "48/50, error=0.071990\n",
            "49/50, error=0.071289\n",
            "50/50, error=0.070576\n"
          ]
        }
      ]
    },
    {
      "cell_type": "code",
      "metadata": {
        "colab": {
          "base_uri": "https://localhost:8080/",
          "height": 524
        },
        "id": "u7srx6J2TjMg",
        "outputId": "9a1126ac-5877-4026-e7f5-a49177282903"
      },
      "source": [
        "from matplotlib.pyplot import figure\n",
        "\n",
        "figure(figsize=(9, 7), dpi=80)\n",
        "plt.plot(np.arange(len(error_list)), error_list)\n",
        "plt.xlabel(\"Epochs\", labelpad=14)\n",
        "plt.ylabel(\"Cost Function\", labelpad=14)\n",
        "plt.title(\"Cost Function at LR = 0.001\", y=1.02);"
      ],
      "execution_count": null,
      "outputs": [
        {
          "output_type": "display_data",
          "data": {
            "image/png": "[encoded data removed]",
            "text/plain": [
              "<Figure size 720x560 with 1 Axes>"
            ]
          },
          "metadata": {
            "needs_background": "light"
          }
        }
      ]
    },
    {
      "cell_type": "markdown",
      "metadata": {
        "id": "5QkUoy4oRmE0"
      },
      "source": [
        "#**7. Prediction**"
      ]
    },
    {
      "cell_type": "code",
      "metadata": {
        "id": "ERV5_QinvwXY",
        "colab": {
          "base_uri": "https://localhost:8080/",
          "height": 1000
        },
        "outputId": "86f2d1b6-fa0b-4c5b-af76-bbd9bdb0555f"
      },
      "source": [
        "import matplotlib.pyplot as plt\n",
        "\n",
        "samples = 10\n",
        "for test, true in zip(x_test_1[:samples], y_test_1[:samples]):\n",
        "    image = np.reshape(test, (28, 28))\n",
        "    plt.imshow(image, cmap='binary')\n",
        "    plt.show()\n",
        "    pred = predict(network, test)[0]\n",
        "    idx = np.argmax(pred)\n",
        "    idx_true = np.argmax(true)\n",
        "    print('pred: %s, prob: %.2f, true: %d' % (idx, pred[idx], idx_true))"
      ],
      "execution_count": null,
      "outputs": [
        {
          "output_type": "display_data",
          "data": {
            "image/png": "[encoded data removed]",
            "text/plain": [
              "<Figure size 432x288 with 1 Axes>"
            ]
          },
          "metadata": {
            "needs_background": "light"
          }
        },
        {
          "output_type": "stream",
          "name": "stdout",
          "text": [
            "pred: 7, prob: 1.00, true: 7\n"
          ]
        },
        {
          "output_type": "display_data",
          "data": {
            "image/png": "[encoded data removed]",
            "text/plain": [
              "<Figure size 432x288 with 1 Axes>"
            ]
          },
          "metadata": {
            "needs_background": "light"
          }
        },
        {
          "output_type": "stream",
          "name": "stdout",
          "text": [
            "pred: 6, prob: 0.52, true: 2\n"
          ]
        },
        {
          "output_type": "display_data",
          "data": {
            "image/png": "[encoded data removed]",
            "text/plain": [
              "<Figure size 432x288 with 1 Axes>"
            ]
          },
          "metadata": {
            "needs_background": "light"
          }
        },
        {
          "output_type": "stream",
          "name": "stdout",
          "text": [
            "pred: 1, prob: 1.00, true: 1\n"
          ]
        },
        {
          "output_type": "display_data",
          "data": {
            "image/png": "[encoded data removed]",
            "text/plain": [
              "<Figure size 432x288 with 1 Axes>"
            ]
          },
          "metadata": {
            "needs_background": "light"
          }
        },
        {
          "output_type": "stream",
          "name": "stdout",
          "text": [
            "pred: 0, prob: 1.00, true: 0\n"
          ]
        },
        {
          "output_type": "display_data",
          "data": {
            "image/png": "[encoded data removed]",
            "text/plain": [
              "<Figure size 432x288 with 1 Axes>"
            ]
          },
          "metadata": {
            "needs_background": "light"
          }
        },
        {
          "output_type": "stream",
          "name": "stdout",
          "text": [
            "pred: 4, prob: 0.96, true: 4\n"
          ]
        },
        {
          "output_type": "display_data",
          "data": {
            "image/png": "[encoded data removed]",
            "text/plain": [
              "<Figure size 432x288 with 1 Axes>"
            ]
          },
          "metadata": {
            "needs_background": "light"
          }
        },
        {
          "output_type": "stream",
          "name": "stdout",
          "text": [
            "pred: 1, prob: 0.99, true: 1\n"
          ]
        },
        {
          "output_type": "display_data",
          "data": {
            "image/png": "[encoded data removed]",
            "text/plain": [
              "<Figure size 432x288 with 1 Axes>"
            ]
          },
          "metadata": {
            "needs_background": "light"
          }
        },
        {
          "output_type": "stream",
          "name": "stdout",
          "text": [
            "pred: 4, prob: 0.99, true: 4\n"
          ]
        },
        {
          "output_type": "display_data",
          "data": {
            "image/png": "[encoded data removed]",
            "text/plain": [
              "<Figure size 432x288 with 1 Axes>"
            ]
          },
          "metadata": {
            "needs_background": "light"
          }
        },
        {
          "output_type": "stream",
          "name": "stdout",
          "text": [
            "pred: 9, prob: 1.00, true: 9\n"
          ]
        },
        {
          "output_type": "display_data",
          "data": {
            "image/png": "[encoded data removed]",
            "text/plain": [
              "<Figure size 432x288 with 1 Axes>"
            ]
          },
          "metadata": {
            "needs_background": "light"
          }
        },
        {
          "output_type": "stream",
          "name": "stdout",
          "text": [
            "pred: 2, prob: 0.91, true: 5\n"
          ]
        },
        {
          "output_type": "display_data",
          "data": {
            "image/png": "[encoded data removed]",
            "text/plain": [
              "<Figure size 432x288 with 1 Axes>"
            ]
          },
          "metadata": {
            "needs_background": "light"
          }
        },
        {
          "output_type": "stream",
          "name": "stdout",
          "text": [
            "pred: 9, prob: 0.84, true: 9\n"
          ]
        }
      ]
    },
    {
      "cell_type": "markdown",
      "metadata": {
        "id": "sfnGL7wVRcfT"
      },
      "source": [
        "#**8. Evaluation**"
      ]
    },
    {
      "cell_type": "code",
      "metadata": {
        "id": "mrMLx3eGv3jk",
        "colab": {
          "base_uri": "https://localhost:8080/"
        },
        "outputId": "c4aef00e-6f35-43c5-ea56-78882b2f5928"
      },
      "source": [
        "def predict(network, input):\n",
        "    output = input\n",
        "    for layer in network:\n",
        "        output = layer.forward(output)\n",
        "    return output\n",
        "\n",
        "ratio = sum([np.argmax(y) == np.argmax(predict(network, x)) for x, y in zip(x_test_1, y_test_1)]) / len(x_test_1)\n",
        "error = sum([mse(y, predict(network, x)) for x, y in zip(x_test_1, y_test_1)]) / len(x_test_1)\n",
        "print('ratio: %.2f' % ratio)\n",
        "print('mse: %.4f' % error)"
      ],
      "execution_count": null,
      "outputs": [
        {
          "output_type": "stream",
          "name": "stdout",
          "text": [
            "ratio: 0.87\n",
            "mse: 0.0191\n"
          ]
        }
      ]
    }
  ]
}